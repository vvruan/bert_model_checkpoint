{
 "cells": [
  {
   "cell_type": "code",
   "execution_count": 95,
   "id": "71f07a8e",
   "metadata": {},
   "outputs": [],
   "source": [
    "import numpy as np\n",
    "import pandas as pd\n",
    "import torch\n",
    "from sklearn.model_selection import train_test_split\n",
    "from torch.utils.data import Dataset, DataLoader, TensorDataset\n",
    "import random\n",
    "import re\n",
    "from torch.optim import Adam\n",
    "from tqdm import tqdm\n",
    "import numpy as np \n",
    "\n",
    "from transformers import BertTokenizer\n",
    "tokenizer = BertTokenizer.from_pretrained('bert-base-chinese')"
   ]
  },
  {
   "cell_type": "code",
   "execution_count": 105,
   "id": "97c805da",
   "metadata": {},
   "outputs": [],
   "source": [
    "import os \n",
    "# 这个地方需要修改path和checkpoint name\n",
    "model_save_path = os.path.join('/Users/vivianruan/Downloads', 'model_ckpt_v4.pt')\n",
    "checkpoint = torch.load(model_save_path)"
   ]
  },
  {
   "cell_type": "code",
   "execution_count": 110,
   "id": "0ef0ba03",
   "metadata": {},
   "outputs": [],
   "source": [
    "# 这个地方导入自己的csv，命名为df_test\n",
    "df = pd.read_csv(\"工作簿6.csv\")\n",
    "df_test = df.copy()"
   ]
  },
  {
   "cell_type": "code",
   "execution_count": 107,
   "id": "539c862d",
   "metadata": {},
   "outputs": [],
   "source": [
    "labels = {\n",
    "    \"操控\": 0,\n",
    "    \"动力\": 1,\n",
    "    \"空间\": 2,\n",
    "    \"内饰\": 3,\n",
    "    \"其他信息\": 4,\n",
    "    \"舒适性\": 5,\n",
    "    \"外观\": 6,\n",
    "    \"用车成本\": 7,\n",
    "    \"智能化配置\": 8,\n",
    "    \"安全\":9,\n",
    "    \"充电\":10\n",
    "}\n",
    "\n",
    "class Dataset(torch.utils.data.Dataset):\n",
    "    def __init__(self, df):\n",
    "\n",
    "        self.texts = [tokenizer.encode_plus(\n",
    "                        text=text,  # Preprocess sentence\n",
    "                        add_special_tokens=True,        # Add `[CLS]` and `[SEP]`\n",
    "                        max_length=512,                  # Max length to truncate/pad\n",
    "                        pad_to_max_length=True,         # Pad sentence to max length\n",
    "                        return_tensors='pt',           # Return PyTorch tensor\n",
    "                        return_attention_mask=True)      # Return attention mask)\n",
    "                    for text in df['content']]\n",
    "        \n",
    "        self.labels = [labels[label] for label in df['label1']] \n",
    "        \n",
    "\n",
    "    def classes(self):\n",
    "        return self.labels\n",
    "    \n",
    "    def texts(self):\n",
    "        return self.texts\n",
    "\n",
    "    def __len__(self):\n",
    "        return len(self.labels)\n",
    "\n",
    "    def get_batch_labels(self, idx):\n",
    "        # Fetch a batch of labels\n",
    "        return np.array(self.labels[idx])\n",
    "\n",
    "    def get_batch_texts(self, idx):\n",
    "        # Fetch a batch of inputs\n",
    "        return self.texts[idx]\n",
    "\n",
    "    def __getitem__(self, idx):\n",
    "        batch_texts = self.get_batch_texts(idx)\n",
    "        batch_y = self.get_batch_labels(idx)\n",
    "        return batch_texts, batch_y"
   ]
  },
  {
   "cell_type": "code",
   "execution_count": 108,
   "id": "da0c65dd",
   "metadata": {},
   "outputs": [],
   "source": [
    "from torch import nn\n",
    "from transformers import BertModel\n",
    "\n",
    "class BertClassifier(nn.Module):\n",
    "    def __init__(self, dropout=0.1): # set dropout \n",
    "        super(BertClassifier, self).__init__()\n",
    "        self.bert = BertModel.from_pretrained('bert-base-chinese')\n",
    "        self.dropout = nn.Dropout(dropout)\n",
    "        self.linear = nn.Linear(768, 11)\n",
    "        self.relu = nn.ReLU()\n",
    "\n",
    "    def forward(self, input_id, mask):\n",
    "        _, pooled_output = self.bert(input_ids= input_id, attention_mask=mask,return_dict=False)\n",
    "        dropout_output = self.dropout(pooled_output)\n",
    "        linear_output = self.linear(dropout_output)\n",
    "        final_layer = self.relu(linear_output)\n",
    "        return final_layer"
   ]
  },
  {
   "cell_type": "code",
   "execution_count": 109,
   "id": "b1a62a85",
   "metadata": {
    "scrolled": true
   },
   "outputs": [
    {
     "name": "stderr",
     "output_type": "stream",
     "text": [
      "Some weights of the model checkpoint at bert-base-chinese were not used when initializing BertModel: ['cls.predictions.transform.LayerNorm.weight', 'cls.predictions.decoder.weight', 'cls.predictions.transform.dense.bias', 'cls.seq_relationship.weight', 'cls.seq_relationship.bias', 'cls.predictions.transform.dense.weight', 'cls.predictions.bias', 'cls.predictions.transform.LayerNorm.bias']\n",
      "- This IS expected if you are initializing BertModel from the checkpoint of a model trained on another task or with another architecture (e.g. initializing a BertForSequenceClassification model from a BertForPreTraining model).\n",
      "- This IS NOT expected if you are initializing BertModel from the checkpoint of a model that you expect to be exactly identical (initializing a BertForSequenceClassification model from a BertForSequenceClassification model).\n"
     ]
    },
    {
     "data": {
      "text/plain": [
       "<All keys matched successfully>"
      ]
     },
     "execution_count": 109,
     "metadata": {},
     "output_type": "execute_result"
    }
   ],
   "source": [
    "model = BertClassifier()\n",
    "optimizer = Adam(model.parameters(), lr=2e-5)\n",
    "epoch = 4\n",
    "criterion = nn.CrossEntropyLoss()\n",
    "\n",
    "model.load_state_dict(checkpoint)"
   ]
  },
  {
   "cell_type": "code",
   "execution_count": 1,
   "id": "8416a8af",
   "metadata": {
    "scrolled": true
   },
   "outputs": [
    {
     "ename": "NameError",
     "evalue": "name 'Dataset' is not defined",
     "output_type": "error",
     "traceback": [
      "\u001b[0;31m---------------------------------------------------------------------------\u001b[0m",
      "\u001b[0;31mNameError\u001b[0m                                 Traceback (most recent call last)",
      "Input \u001b[0;32mIn [1]\u001b[0m, in \u001b[0;36m<cell line: 1>\u001b[0;34m()\u001b[0m\n\u001b[0;32m----> 1\u001b[0m test \u001b[38;5;241m=\u001b[39m \u001b[43mDataset\u001b[49m(df_test)\n\u001b[1;32m      2\u001b[0m test_dataloader \u001b[38;5;241m=\u001b[39m torch\u001b[38;5;241m.\u001b[39mutils\u001b[38;5;241m.\u001b[39mdata\u001b[38;5;241m.\u001b[39mDataLoader(test, batch_size\u001b[38;5;241m=\u001b[39m\u001b[38;5;241m32\u001b[39m)\n\u001b[1;32m      3\u001b[0m use_cuda \u001b[38;5;241m=\u001b[39m torch\u001b[38;5;241m.\u001b[39mcuda\u001b[38;5;241m.\u001b[39mis_available()\n",
      "\u001b[0;31mNameError\u001b[0m: name 'Dataset' is not defined"
     ]
    }
   ],
   "source": [
    "test = Dataset(df_test)\n",
    "test_dataloader = torch.utils.data.DataLoader(test, batch_size=32)\n",
    "use_cuda = torch.cuda.is_available()\n",
    "device = torch.device(\"cuda\" if use_cuda else \"cpu\")\n",
    "\n",
    "if use_cuda:\n",
    "    model = model.cuda()\n",
    "\n",
    "total_acc_test = 0\n",
    "new_test_array = np.zeros([2,])\n",
    "\n",
    "with torch.no_grad():\n",
    "    for test_input, test_label in tqdm(test_dataloader):\n",
    "        test_label = test_label.to(device)\n",
    "        mask = test_input['attention_mask'].to(device)\n",
    "        input_id = test_input['input_ids'].squeeze(1).to(device)\n",
    "        output = model(input_id, mask)\n",
    "        acc = (output.argmax(axis = 1) == test_label).sum().item()\n",
    "        total_acc_test += acc   \n",
    "            \n",
    "        new_test_array = np.concatenate([new_test_array,output.argmax(dim=1)],axis = 0)\n",
    "            \n",
    "print(f'Test Accuracy: {total_acc_test / len(df_test): .3f}')\n",
    "np.save(\"test_array.npy\",new_test_array)"
   ]
  },
  {
   "cell_type": "code",
   "execution_count": 86,
   "id": "ad397f92",
   "metadata": {},
   "outputs": [],
   "source": [
    "eval_result = pd.DataFrame(new_test_array)\n",
    "eval_result = eval_result[2:].reset_index()\n",
    "\n",
    "df_output = pd.concat([df_test[\"content\"],eval_result],axis =1)\n",
    "df_output = df_output.drop([\"index\"],axis = 1)\n",
    "df_output = df_output.rename(columns={0: \"label_tag\"})"
   ]
  },
  {
   "cell_type": "code",
   "execution_count": 87,
   "id": "cf147d83",
   "metadata": {
    "scrolled": true
   },
   "outputs": [
    {
     "data": {
      "text/html": [
       "<div>\n",
       "<style scoped>\n",
       "    .dataframe tbody tr th:only-of-type {\n",
       "        vertical-align: middle;\n",
       "    }\n",
       "\n",
       "    .dataframe tbody tr th {\n",
       "        vertical-align: top;\n",
       "    }\n",
       "\n",
       "    .dataframe thead th {\n",
       "        text-align: right;\n",
       "    }\n",
       "</style>\n",
       "<table border=\"1\" class=\"dataframe\">\n",
       "  <thead>\n",
       "    <tr style=\"text-align: right;\">\n",
       "      <th></th>\n",
       "      <th>content</th>\n",
       "      <th>label_tag</th>\n",
       "    </tr>\n",
       "  </thead>\n",
       "  <tbody>\n",
       "    <tr>\n",
       "      <th>0</th>\n",
       "      <td>最满意】对于比亚迪唐这台车满意的地方还是比较多的，首先是油耗对于有这么大车型的SUV来说，油...</td>\n",
       "      <td>空间</td>\n",
       "    </tr>\n",
       "    <tr>\n",
       "      <th>1</th>\n",
       "      <td>最不满意】最不满意的地方主要有三个地方，第一，就是这款车它的后排的空间中间的那个地方凸起的特...</td>\n",
       "      <td>空间</td>\n",
       "    </tr>\n",
       "    <tr>\n",
       "      <th>2</th>\n",
       "      <td>最满意】换车的想法真是一瞬间的，我上班到家里的距离足足有50KM的，就名下就有一台是老款的千...</td>\n",
       "      <td>用车成本</td>\n",
       "    </tr>\n",
       "    <tr>\n",
       "      <th>3</th>\n",
       "      <td>最满意】这不是老车开着不是很安全的，就一直想买一台省油的车，新能源现在是越来越不错的，看了广...</td>\n",
       "      <td>内饰</td>\n",
       "    </tr>\n",
       "    <tr>\n",
       "      <th>4</th>\n",
       "      <td>最满意】满意的地方主要是比亚迪唐的配置和动力了，这是一款非常有实力的座驾，很多人商务办公就爱...</td>\n",
       "      <td>动力</td>\n",
       "    </tr>\n",
       "    <tr>\n",
       "      <th>...</th>\n",
       "      <td>...</td>\n",
       "      <td>...</td>\n",
       "    </tr>\n",
       "    <tr>\n",
       "      <th>1721</th>\n",
       "      <td>价格有绝对优势</td>\n",
       "      <td>用车成本</td>\n",
       "    </tr>\n",
       "    <tr>\n",
       "      <th>1722</th>\n",
       "      <td>座椅包裹性很好</td>\n",
       "      <td>舒适性</td>\n",
       "    </tr>\n",
       "    <tr>\n",
       "      <th>1723</th>\n",
       "      <td>超车提速也够用</td>\n",
       "      <td>动力</td>\n",
       "    </tr>\n",
       "    <tr>\n",
       "      <th>1724</th>\n",
       "      <td>无论长途,短途</td>\n",
       "      <td>其他信息</td>\n",
       "    </tr>\n",
       "    <tr>\n",
       "      <th>1725</th>\n",
       "      <td>尾箱空间足够大</td>\n",
       "      <td>空间</td>\n",
       "    </tr>\n",
       "  </tbody>\n",
       "</table>\n",
       "<p>1726 rows × 2 columns</p>\n",
       "</div>"
      ],
      "text/plain": [
       "                                                content label_tag\n",
       "0     最满意】对于比亚迪唐这台车满意的地方还是比较多的，首先是油耗对于有这么大车型的SUV来说，油...        空间\n",
       "1     最不满意】最不满意的地方主要有三个地方，第一，就是这款车它的后排的空间中间的那个地方凸起的特...        空间\n",
       "2     最满意】换车的想法真是一瞬间的，我上班到家里的距离足足有50KM的，就名下就有一台是老款的千...      用车成本\n",
       "3     最满意】这不是老车开着不是很安全的，就一直想买一台省油的车，新能源现在是越来越不错的，看了广...        内饰\n",
       "4     最满意】满意的地方主要是比亚迪唐的配置和动力了，这是一款非常有实力的座驾，很多人商务办公就爱...        动力\n",
       "...                                                 ...       ...\n",
       "1721                                            价格有绝对优势      用车成本\n",
       "1722                                            座椅包裹性很好       舒适性\n",
       "1723                                            超车提速也够用        动力\n",
       "1724                                            无论长途,短途      其他信息\n",
       "1725                                            尾箱空间足够大        空间\n",
       "\n",
       "[1726 rows x 2 columns]"
      ]
     },
     "execution_count": 87,
     "metadata": {},
     "output_type": "execute_result"
    }
   ],
   "source": [
    "labels_reverse = {\n",
    "    0:\"操控\",\n",
    "    1:\"动力\",\n",
    "    2:\"空间\",\n",
    "    3:\"内饰\",\n",
    "    4:\"其他信息\",\n",
    "    5:\"舒适性\",\n",
    "    6:\"外观\",\n",
    "    7:\"用车成本\",\n",
    "    8:\"智能化配置\",\n",
    "    9:\"安全\",\n",
    "    10:\"充电\"\n",
    "}\n",
    "\n",
    "df_output.replace({\"label_tag\": labels_reverse},inplace=True)\n",
    "df_output "
   ]
  },
  {
   "cell_type": "code",
   "execution_count": 88,
   "id": "dc46fda6",
   "metadata": {},
   "outputs": [],
   "source": [
    "df_output.to_csv(\"test_result.csv\")"
   ]
  }
 ],
 "metadata": {
  "kernelspec": {
   "display_name": "Python 3 (ipykernel)",
   "language": "python",
   "name": "python3"
  },
  "language_info": {
   "codemirror_mode": {
    "name": "ipython",
    "version": 3
   },
   "file_extension": ".py",
   "mimetype": "text/x-python",
   "name": "python",
   "nbconvert_exporter": "python",
   "pygments_lexer": "ipython3",
   "version": "3.9.15"
  }
 },
 "nbformat": 4,
 "nbformat_minor": 5
}
